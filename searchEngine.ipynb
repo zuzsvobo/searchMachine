{
 "cells": [
  {
   "cell_type": "code",
   "execution_count": null,
   "metadata": {},
   "outputs": [],
   "source": [
    "%pip install unstructured\n",
    "%pip install trasformers\n",
    "%pip install \"unstructured[all-docs]\"\n",
    "%pip install chromadb\n",
    "%pip install sentence_transformers"
   ]
  },
  {
   "cell_type": "code",
   "execution_count": null,
   "metadata": {},
   "outputs": [],
   "source": [
    "from unstructured.partition.pdf import partition_pdf\n",
    "import chromadb\n",
    "from sentence_transformers import SentenceTransformer\n",
    "from PIL import Image\n",
    "import os\n",
    "from transformers import pipeline\n",
    "import pickle\n",
    "from transformers import AutoTokenizer, CLIPTextModelWithProjection\n",
    "import requests\n"
   ]
  },
  {
   "cell_type": "code",
   "execution_count": null,
   "metadata": {},
   "outputs": [],
   "source": [
    "def get_chunks_of_texts_and_images_from_pdf(path_file):\n",
    "    image_path = \"figures\"\n",
    "    chunks_of_texts = partition_pdf(path_file, chunking_strategy=\"by_title\", strategy=\"hi_res\", extract_images_in_pdf=True,\n",
    "                                    extract_image_block_to_payload=False, \n",
    "                                    extract_image_block_output_dir=image_path,\n",
    "                                    max_characters=1000,\n",
    "                                    overlap=100)\n",
    "   \n",
    "    return chunks_of_texts, image_path"
   ]
  },
  {
   "cell_type": "code",
   "execution_count": null,
   "metadata": {},
   "outputs": [],
   "source": [
    "def emdedd_images(image_path, embedding_model):\n",
    "\n",
    "    def get_images_and_paths_from_folder(folder_path): # function written by chatGPT\n",
    "        images = []\n",
    "        image_paths = []\n",
    "        for filename in os.listdir(folder_path):\n",
    "            image_path = os.path.join(folder_path, filename)\n",
    "            try:\n",
    "                img = Image.open(image_path)\n",
    "                images.append(img)\n",
    "                image_paths.append(image_path)\n",
    "            except Exception as e:\n",
    "                print(f\"Error loading image {filename}: {e}\")\n",
    "        return images,image_paths\n",
    "\n",
    "    images_original,image_paths = get_images_and_paths_from_folder(image_path+ '/')\n",
    "    image_embeddings = embedding_model.encode(images_original)\n",
    "\n",
    "    return images_original, image_embeddings, image_paths"
   ]
  },
  {
   "cell_type": "code",
   "execution_count": null,
   "metadata": {},
   "outputs": [],
   "source": [
    "def embedd_texts(chunks_of_texts,summarize_model,embedding_model,embedding_tokenizer):\n",
    "    original_texts = []\n",
    "    text_ids=[]\n",
    "    for text_element in chunks_of_texts:\n",
    "        original_texts.append(text_element.text)\n",
    "        text_ids.append(text_element.id)\n",
    "    short_original_texts_dict = summarize_model(original_texts, max_length=77,min_length=10)\n",
    "    short_original_texts = [element['summary_text'] for element in short_original_texts_dict]\n",
    "    inputs = embedding_tokenizer(short_original_texts, padding=True,  return_tensors=\"pt\", truncation=True)\n",
    "    outputs = embedding_model(**inputs)\n",
    "    text_embeddings = outputs.text_embeds\n",
    "    text_embeddings = text_embeddings.tolist()\n",
    "\n",
    "    return original_texts, text_embeddings, text_ids\n",
    "    "
   ]
  },
  {
   "cell_type": "code",
   "execution_count": null,
   "metadata": {},
   "outputs": [],
   "source": [
    "\n",
    "class SearchEngine():\n",
    "    def __init__(self,url) -> None:\n",
    "        \n",
    "        path_file = 'paper.pdf'  \n",
    "        response = requests.get(url)\n",
    "        with open(path_file, 'wb') as f:\n",
    "            f.write(response.content)\n",
    "\n",
    "        chunks_of_texts, image_path = get_chunks_of_texts_and_images_from_pdf(path_file)\n",
    "        # with open('chunks_pick.pkl', 'rb') as file:\n",
    "        #     chunks_of_texts = pickle.load(file)\n",
    "        # with open('image_path.pkl', 'rb') as file:\n",
    "        #     image_path = pickle.load(file)\n",
    "\n",
    "        self.embedding_model_images = SentenceTransformer('clip-ViT-B-32')\n",
    "        summarize_model = pipeline(\"summarization\", model=\"facebook/bart-large-cnn\")                \n",
    "        self.embedding_model = CLIPTextModelWithProjection.from_pretrained(\"openai/clip-vit-base-patch32\")\n",
    "        self.embedding_tokenizer = AutoTokenizer.from_pretrained(\"openai/clip-vit-base-patch32\")\n",
    "\n",
    "        images_original, image_embeddings, image_paths = emdedd_images(image_path, self.embedding_model_images)\n",
    "\n",
    "        original_texts, text_embeddings, text_ids = embedd_texts(chunks_of_texts,summarize_model,self.embedding_model,self.embedding_tokenizer)\n",
    "\n",
    "        client = chromadb.PersistentClient(path=\"chroma_collections/\")\n",
    "        self.collection = client.get_or_create_collection(name=\"pdf_collection\")\n",
    "\n",
    "        self.collection.add(\n",
    "            embeddings = image_embeddings,\n",
    "            documents = image_paths,\n",
    "            ids = image_paths\n",
    "        )\n",
    "\n",
    "        self.collection.add(\n",
    "            embeddings = text_embeddings,\n",
    "            documents = original_texts,\n",
    "            ids = text_ids\n",
    "        )\n",
    "    \n",
    "    def retriewe_information(self,query_text:str,n_results):\n",
    "        inputs = self.embedding_tokenizer(query_text, padding=True,  return_tensors=\"pt\", truncation=True)\n",
    "        outputs = self.embedding_model(**inputs)\n",
    "        text_embeddings = outputs.text_embeds\n",
    "        text_embeddings = text_embeddings.tolist()\n",
    "        results = self.collection.query(query_embeddings=text_embeddings, n_results=n_results)\n",
    "\n",
    "        return results\n"
   ]
  },
  {
   "cell_type": "code",
   "execution_count": null,
   "metadata": {},
   "outputs": [],
   "source": [
    "#path_file = \"docs/2307.06435.pdf\"\n",
    "url = 'https://arxiv.org/pdf/2307.06435.pdf'\n",
    "engine = SearchEngine(url)"
   ]
  },
  {
   "cell_type": "code",
   "execution_count": null,
   "metadata": {},
   "outputs": [],
   "source": [
    "n_answers = 3\n",
    "query_result = engine.retriewe_information(['What is the trend of papers released over the years containing the keywords Large Language Model'],n_answers)\n",
    "\n",
    "def vizualize_results():\n",
    "    for document in query_result['documents'][0]:\n",
    "        if document.split('/')[0]=='figures':\n",
    "            img = Image.open(document)\n",
    "            img.show()\n",
    "        else:\n",
    "            print(document)\n",
    "\n",
    "vizualize_results()\n",
    "               "
   ]
  }
 ],
 "metadata": {
  "kernelspec": {
   "display_name": ".venv",
   "language": "python",
   "name": "python3"
  },
  "language_info": {
   "codemirror_mode": {
    "name": "ipython",
    "version": 3
   },
   "file_extension": ".py",
   "mimetype": "text/x-python",
   "name": "python",
   "nbconvert_exporter": "python",
   "pygments_lexer": "ipython3",
   "version": "3.10.12"
  }
 },
 "nbformat": 4,
 "nbformat_minor": 2
}
